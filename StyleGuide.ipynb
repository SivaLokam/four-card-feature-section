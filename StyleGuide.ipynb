{
 "cells": [
  {
   "cell_type": "markdown",
   "metadata": {},
   "source": [
    "# Front-end Style Guide\n",
    "\n",
    "## Layout\n",
    "\n",
    "The designs were created to the following widths:\n",
    "\n",
    "- Mobile: 375px\n",
    "- Desktop: 1440px\n",
    "\n",
    "## Colors\n",
    "\n",
    "### Primary\n",
    "\n",
    "- Red: hsl(0, 78%, 62%)\n",
    "- Cyan: hsl(180, 62%, 55%)\n",
    "- Orange: hsl(34, 97%, 64%)\n",
    "- Blue: hsl(212, 86%, 64%)\n",
    "\n",
    "### Neutral\n",
    "\n",
    "- Very Dark Blue: hsl(234, 12%, 34%)\n",
    "- Grayish Blue: hsl(229, 6%, 66%)\n",
    "- Very Light Gray: hsl(0, 0%, 98%)\n",
    "\n",
    "## Typography\n",
    "\n",
    "### Body Copy\n",
    "\n",
    "- Font size: 15px\n",
    "\n",
    "### Fonts\n",
    "\n",
    "- Family: [Poppins](https://fonts.google.com/specimen/Poppins)\n",
    "- Weights: 200, 400, 600\n"
   ]
  },
  {
   "cell_type": "code",
   "execution_count": null,
   "metadata": {},
   "outputs": [],
   "source": []
  }
 ],
 "metadata": {
  "kernelspec": {
   "display_name": "Python 3",
   "language": "python",
   "name": "python3"
  },
  "language_info": {
   "codemirror_mode": {
    "name": "ipython",
    "version": 3
   },
   "file_extension": ".py",
   "mimetype": "text/x-python",
   "name": "python",
   "nbconvert_exporter": "python",
   "pygments_lexer": "ipython3",
   "version": "3.7.1"
  }
 },
 "nbformat": 4,
 "nbformat_minor": 2
}
